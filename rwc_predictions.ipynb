{
 "cells": [
  {
   "cell_type": "markdown",
   "metadata": {},
   "source": [
    "# Simulating the world cup"
   ]
  },
  {
   "cell_type": "code",
   "execution_count": null,
   "metadata": {},
   "outputs": [],
   "source": [
    "import itertools\n",
    "import operator\n",
    "import numpy as np\n",
    "import pandas as pd\n",
    "import pystan"
   ]
  },
  {
   "cell_type": "code",
   "execution_count": null,
   "metadata": {},
   "outputs": [],
   "source": [
    "group_a = (\"Japan\", \"Ireland\", \"Scotland\", \"Samoa\", \"Russia\")\n",
    "group_b = (\"New Zealand\", \"Italy\", \"Namibia\", \"Canada\", \"South Africa\")\n",
    "group_c = (\"France\", \"England\", \"United States of America\", \"Tonga\", \"Argentina\")\n",
    "group_d = (\"Australia\", \"Wales\", \"Georgia\", \"Uruguay\", \"Fiji\")\n",
    "\n",
    "all_teams = group_a + group_b + group_c + group_d"
   ]
  },
  {
   "cell_type": "code",
   "execution_count": null,
   "metadata": {},
   "outputs": [],
   "source": [
    "df = pd.read_csv(\"rugby_data.csv\")\n",
    "\n",
    "df = df[\n",
    "    df[\"home_team\"].isin(all_teams) & df[\"away_team\"].isin(all_teams) & (df[\"date\"] < \"2019-09-19\")\n",
    "]\n",
    "\n",
    "team_indices = {team: i + 1 for i, team in enumerate(all_teams)}\n",
    "df = df.replace(\n",
    "    to_replace={\"home_team\": team_indices, \"away_team\": team_indices}\n",
    ")"
   ]
  },
  {
   "cell_type": "markdown",
   "metadata": {},
   "source": [
    "## Stan model"
   ]
  },
  {
   "cell_type": "code",
   "execution_count": null,
   "metadata": {},
   "outputs": [],
   "source": [
    "stan_code = \"\"\"\n",
    "data {\n",
    "    int<lower=1> nteam;\n",
    "    int<lower=1> nmatch;\n",
    "    int home_team[nmatch];\n",
    "    int away_team[nmatch];\n",
    "    int home_points[nmatch];\n",
    "    int away_points[nmatch];\n",
    "}\n",
    "parameters {\n",
    "    vector[nteam] log_a_tilde;\n",
    "    vector[nteam] log_b_tilde;\n",
    "    real<lower=0> sigma_a;\n",
    "    real<lower=0> sigma_b;\n",
    "    real mu_b;\n",
    "    real<lower=0> phi;\n",
    "}\n",
    "transformed parameters {\n",
    "    vector[nteam] a = exp(sigma_a * log_a_tilde);\n",
    "    vector[nteam] b = exp(mu_b + sigma_b * log_b_tilde);\n",
    "    vector[nmatch] home_rate = a[home_team] .* b[away_team];\n",
    "    vector[nmatch] away_rate = a[away_team] .* b[home_team];\n",
    "}\n",
    "model {\n",
    "    phi ~ normal(0, 5);\n",
    "    sigma_a ~ normal(0, 1);\n",
    "    sigma_b ~ normal(0, 1);\n",
    "    mu_b ~ normal(0, 5);\n",
    "    log_a_tilde ~ normal(0, 1);\n",
    "    log_b_tilde ~ normal(0, 1);\n",
    "    home_points ~ neg_binomial_2(home_rate, phi);\n",
    "    away_points ~ neg_binomial_2(away_rate, phi);\n",
    "}\n",
    "generated quantities {\n",
    "    int home_points_rep[nmatch];\n",
    "    int away_points_rep[nmatch];\n",
    "    for (i in 1:nmatch) {\n",
    "        home_points_rep[i] = neg_binomial_2_rng(home_rate[i], phi);\n",
    "        away_points_rep[i] = neg_binomial_2_rng(away_rate[i], phi);\n",
    "    }\n",
    "}\n",
    "\"\"\"\n",
    "\n",
    "model = pystan.StanModel(model_code=stan_code)\n",
    "\n",
    "stan_data = {\n",
    "    \"nteam\": len(all_teams),\n",
    "    \"nmatch\": len(df),\n",
    "    \"home_team\": df[\"home_team\"].values,\n",
    "    \"away_team\": df[\"away_team\"].values,\n",
    "    \"home_points\": df[\"home_points\"].values,\n",
    "    \"away_points\": df[\"away_points\"].values\n",
    "}\n",
    "\n",
    "fit = model.sampling(stan_data, seed=42)"
   ]
  },
  {
   "cell_type": "markdown",
   "metadata": {},
   "source": [
    "## Simulate the cup"
   ]
  },
  {
   "cell_type": "code",
   "execution_count": null,
   "metadata": {},
   "outputs": [],
   "source": [
    "a = fit[\"a\"]\n",
    "b = fit[\"b\"]\n",
    "phi = fit[\"phi\"]\n",
    "\n",
    "attack = {team: a[:, i] for i, team in enumerate(all_teams)}\n",
    "defense = {team: b[:, i] for i, team in enumerate(all_teams)}\n",
    "\n",
    "attack_list = [{team: attack[team][i] for team in all_teams} for i in range(a.shape[0])]\n",
    "defense_list = [{team: defense[team][i] for team in all_teams} for i in range(b.shape[0])]"
   ]
  },
  {
   "cell_type": "code",
   "execution_count": null,
   "metadata": {},
   "outputs": [],
   "source": [
    "def convert_params(mu, phi):\n",
    "    var = mu + 1 / phi * mu ** 2\n",
    "    p = (var - mu) / var\n",
    "    return phi, 1 - p\n",
    "\n",
    "def simulate_group_match(a_home, a_away, b_home, b_away, phi):\n",
    "    home_score = np.random.negative_binomial(*convert_params(a_home * b_away, phi))\n",
    "    away_score = np.random.negative_binomial(*convert_params(a_away * b_home, phi))\n",
    "    \n",
    "    home_points = 0\n",
    "    away_points = 0\n",
    "    \n",
    "    if home_score > away_score:\n",
    "        home_points += 4\n",
    "        if home_score - away_score <= 7:\n",
    "            away_points += 1\n",
    "    elif home_score < away_score:\n",
    "        away_points += 4\n",
    "        if away_score - home_score <= 7:\n",
    "            home_points += 1\n",
    "    else:\n",
    "        home_points += 2\n",
    "        away_points += 2\n",
    "        \n",
    "    if home_score > 25:\n",
    "        home_points += 1\n",
    "    \n",
    "    if away_score > 25:\n",
    "        away_points += 1\n",
    "        \n",
    "    return home_points, away_points\n",
    "\n",
    "def simulate_knockout_match(home_team, away_team, attack, defense, phi):\n",
    "    a_home, a_away = attack[home_team], attack[away_team]\n",
    "    b_home, b_away = defense[home_team], defense[away_team]\n",
    "    home_score = np.random.negative_binomial(*convert_params(a_home * b_away, phi))\n",
    "    away_score = np.random.negative_binomial(*convert_params(a_away * b_home, phi))\n",
    "    if home_score == away_score:\n",
    "        return simulate_knockout_match(home_team, away_team, attack, defense, phi)\n",
    "    elif home_score > away_score:\n",
    "        return home_team\n",
    "    else:\n",
    "        return away_team\n",
    "    \n",
    "\n",
    "def simulate_group(teams, attack, defense, phi):\n",
    "    group_points = {team: 0 for team in teams}\n",
    "    for home_team, away_team in itertools.combinations(teams, 2):\n",
    "        home_points, away_points = simulate_group_match(\n",
    "            attack[home_team], attack[away_team], defense[home_team], defense[away_team], phi\n",
    "        )\n",
    "        group_points[home_team] += home_points\n",
    "        group_points[away_team] += away_points\n",
    "        \n",
    "    top_two = [\n",
    "        team for team, points in reversed(sorted(group_points.items(), key=lambda item: item[1]))\n",
    "    ][:2]\n",
    "    \n",
    "    return top_two[0], top_two[1]\n",
    "\n",
    "\n",
    "def simulate_world_cup(attack, defense, phi):\n",
    "    \n",
    "    # simulate the group matches\n",
    "    a_winner, a_runner_up = simulate_group(group_a, attack, defense, phi)\n",
    "    b_winner, b_runner_up = simulate_group(group_b, attack, defense, phi)\n",
    "    c_winner, c_runner_up = simulate_group(group_c, attack, defense, phi)\n",
    "    d_winner, d_runner_up = simulate_group(group_d, attack, defense, phi)\n",
    "    \n",
    "    # quarter finals\n",
    "    qf1_winner = simulate_knockout_match(c_winner, d_runner_up, attack, defense, phi)\n",
    "    qf2_winner = simulate_knockout_match(b_winner, a_runner_up, attack, defense, phi)\n",
    "    qf3_winner = simulate_knockout_match(d_winner, c_runner_up, attack, defense, phi)\n",
    "    qf4_winner = simulate_knockout_match(a_winner, b_runner_up, attack, defense, phi)\n",
    "    \n",
    "    # semi finals\n",
    "    sf1_winner = simulate_knockout_match(qf1_winner, qf2_winner, attack, defense, phi)\n",
    "    sf2_winner = simulate_knockout_match(qf3_winner, qf4_winner, attack, defense, phi)\n",
    "    \n",
    "    # the final\n",
    "    cup_winner = simulate_knockout_match(sf1_winner, sf2_winner, attack, defense, phi)\n",
    "    \n",
    "    return {\n",
    "        \"a_winner\": a_winner,\n",
    "        \"a_runner_up\": a_runner_up,\n",
    "        \"b_winner\": b_winner,\n",
    "        \"b_runner_up\": b_runner_up,\n",
    "        \"c_winner\": c_winner,\n",
    "        \"c_runner_up\": c_runner_up,\n",
    "        \"d_winner\": d_winner,\n",
    "        \"d_runner_up\": d_runner_up,\n",
    "        \"qf1_winner\": qf1_winner,\n",
    "        \"qf2_winner\": qf2_winner,\n",
    "        \"qf3_winner\": qf3_winner,\n",
    "        \"qf4_winner\": qf4_winner,\n",
    "        \"sf1_winner\": sf1_winner,\n",
    "        \"sf2_winner\": sf2_winner,\n",
    "        \"cup_winner\": cup_winner\n",
    "    }"
   ]
  },
  {
   "cell_type": "markdown",
   "metadata": {},
   "source": [
    "## Who will win?"
   ]
  },
  {
   "cell_type": "code",
   "execution_count": null,
   "metadata": {},
   "outputs": [],
   "source": [
    "np.random.seed(42)\n",
    "results = pd.DataFrame([simulate_world_cup(a, b, p) for a, b, p in zip(attack_list, defense_list, phi)])\n",
    "df_results = pd.DataFrame(results[\"cup_winner\"].value_counts() / len(results)).reset_index()\n",
    "\n",
    "df_results.columns = [\"Team\", \"Probability of winning the world cup\"]\n",
    "\n",
    "missing_teams = set(all_teams) - set(df_results[\"Team\"])\n",
    "df_missing = pd.DataFrame({\n",
    "    \"Team\": list(missing_teams),\n",
    "    \"Probability of winning the world cup\": [0.0,] * len(missing_teams)\n",
    "})\n",
    "\n",
    "df_results = pd.concat((df_results, df_missing))\n",
    "df_results.to_csv(\"results.csv\", index=False)"
   ]
  },
  {
   "cell_type": "markdown",
   "metadata": {},
   "source": [
    "## Model checking"
   ]
  },
  {
   "cell_type": "code",
   "execution_count": null,
   "metadata": {},
   "outputs": [],
   "source": [
    "import seaborn as sns\n",
    "import matplotlib.pyplot as plt\n",
    "\n",
    "fig, ax = plt.subplots(4, 4, figsize=(10, 10))\n",
    "for i, axi in enumerate(ax.ravel()):\n",
    "    sim_label = \"simulated data\"\n",
    "    data_label = \"true data\"\n",
    "    sns.distplot(fit[\"home_points_rep\"][i, :], kde=False, ax=axi, label=sim_label)\n",
    "    sns.distplot(\n",
    "        df[\"home_points\"], \n",
    "        kde=False, \n",
    "        hist_kws={\"histtype\": \"step\", \"lw\": 2, \"color\": \"k\"}, \n",
    "        ax=axi, \n",
    "        label=data_label\n",
    "    )\n",
    "    axi.set_xlabel(\"\")\n",
    "    if i == 0:\n",
    "        axi.legend()\n",
    "     \n",
    "\n",
    "    fig.tight_layout()\n",
    "plt.savefig(\"points_distro.png\")"
   ]
  },
  {
   "cell_type": "code",
   "execution_count": null,
   "metadata": {},
   "outputs": [],
   "source": [
    "fig, ax = plt.subplots(4, 4, figsize=(10, 10))\n",
    "for i, axi in enumerate(ax.ravel()):\n",
    "    sim_label = \"simulated data\"\n",
    "    data_label = \"true data\"\n",
    "    sns.distplot(\n",
    "        fit[\"home_points_rep\"][i, :] - fit[\"away_points_rep\"][i, :], \n",
    "        hist_kws={\"histtype\": \"step\", \"lw\": 2, \"color\": \"r\"},\n",
    "        kde=False,\n",
    "        ax=axi, \n",
    "        label=sim_label\n",
    "    )\n",
    "    sns.distplot(\n",
    "        df[\"home_points\"] - df[\"away_points\"], \n",
    "        kde=False, \n",
    "        hist_kws={\"histtype\": \"step\", \"lw\": 2, \"color\": \"k\"}, \n",
    "        ax=axi, \n",
    "        label=data_label\n",
    "    )\n",
    "    if i == 0:\n",
    "        axi.legend()\n",
    "        \n",
    "fig.tight_layout()\n",
    "plt.savefig(\"difference_distro.png\")"
   ]
  },
  {
   "cell_type": "code",
   "execution_count": null,
   "metadata": {},
   "outputs": [],
   "source": [
    "fig, ax = plt.subplots(4, 4, figsize=(10, 10))\n",
    "for i, axi in enumerate(ax.ravel()):\n",
    "    sim_label = \"simulated data\"\n",
    "    data_label = \"true data\"\n",
    "    sns.distplot(\n",
    "        fit[\"home_points_rep\"][i, :] + fit[\"away_points_rep\"][i, :], \n",
    "        hist_kws={\"histtype\": \"step\", \"lw\": 2, \"color\": \"r\"},\n",
    "        kde=False,\n",
    "        ax=axi, \n",
    "        label=sim_label\n",
    "    )\n",
    "    sns.distplot(\n",
    "        df[\"home_points\"] + df[\"away_points\"], \n",
    "        kde=False, \n",
    "        hist_kws={\"histtype\": \"step\", \"lw\": 2, \"color\": \"k\"}, \n",
    "        ax=axi, \n",
    "        label=data_label\n",
    "    )\n",
    "    if i == 0:\n",
    "        axi.legend()\n",
    "        \n",
    "fig.tight_layout()\n",
    "plt.savefig(\"total_points_distro.png\")"
   ]
  },
  {
   "cell_type": "markdown",
   "metadata": {},
   "source": [
    "## England's fate"
   ]
  },
  {
   "cell_type": "code",
   "execution_count": null,
   "metadata": {},
   "outputs": [],
   "source": [
    "pr_out_of_group = ((results[\"c_winner\"] == \"England\") | (results[\"c_runner_up\"] == \"England\")).sum() / len(results)"
   ]
  },
  {
   "cell_type": "code",
   "execution_count": null,
   "metadata": {},
   "outputs": [],
   "source": [
    "pr_semi_final = ((results[\"qf1_winner\"] == \"England\") | (results[\"qf3_winner\"] == \"England\")).sum() / len(results)"
   ]
  },
  {
   "cell_type": "code",
   "execution_count": null,
   "metadata": {},
   "outputs": [],
   "source": [
    "pr_final = ((results[\"sf1_winner\"] == \"England\") | (results[\"sf2_winner\"] == \"England\")).sum() / len(results)"
   ]
  },
  {
   "cell_type": "code",
   "execution_count": null,
   "metadata": {},
   "outputs": [],
   "source": [
    "print(pr_out_of_group)\n",
    "print(pr_semi_final)\n",
    "print(pr_final)"
   ]
  },
  {
   "cell_type": "markdown",
   "metadata": {},
   "source": [
    "## Group summaries"
   ]
  },
  {
   "cell_type": "code",
   "execution_count": null,
   "metadata": {},
   "outputs": [],
   "source": [
    "for group in [\"a\", \"b\", \"c\", \"d\"]:\n",
    "    df_group_win = pd.DataFrame(results[f\"{group}_winner\"].value_counts() / len(results)).reset_index()\n",
    "    df_group_win.columns = [\"Team\", f\"Probability of winning group {group}\"]\n",
    "    df_group_win.to_csv(f\"{group}_win.csv\", index=False)\n",
    "    \n",
    "    df_group_runner = pd.DataFrame(results[f\"{group}_runner_up\"].value_counts() / len(results)).reset_index()\n",
    "    df_group_runner.columns = [\"Team\", f\"Probability of being runner up of {group}\"]\n",
    "    df_group_runner.to_csv(f\"{group}_runner.csv\", index=False)"
   ]
  },
  {
   "cell_type": "markdown",
   "metadata": {},
   "source": [
    "## Knockout redux"
   ]
  },
  {
   "cell_type": "code",
   "execution_count": null,
   "metadata": {},
   "outputs": [],
   "source": [
    "def simulate_world_cup_knockouts(attack, defense, phi):\n",
    "    \n",
    "    # quarter finals\n",
    "    qf1_winner = simulate_knockout_match(\"England\", \"Australia\", attack, defense, phi)\n",
    "    qf2_winner = simulate_knockout_match(\"New Zealand\", \"Ireland\", attack, defense, phi)\n",
    "    qf3_winner = simulate_knockout_match(\"Wales\", \"France\", attack, defense, phi)\n",
    "    qf4_winner = simulate_knockout_match(\"Japan\", \"South Africa\", attack, defense, phi)\n",
    "    \n",
    "    # semi finals\n",
    "    sf1_winner = simulate_knockout_match(qf1_winner, qf2_winner, attack, defense, phi)\n",
    "    sf2_winner = simulate_knockout_match(qf3_winner, qf4_winner, attack, defense, phi)\n",
    "    \n",
    "    # the final\n",
    "    cup_winner = simulate_knockout_match(sf1_winner, sf2_winner, attack, defense, phi)\n",
    "    \n",
    "    return {\n",
    "        \"qf1_winner\": qf1_winner,\n",
    "        \"qf2_winner\": qf2_winner,\n",
    "        \"qf3_winner\": qf3_winner,\n",
    "        \"qf4_winner\": qf4_winner,\n",
    "        \"sf1_winner\": sf1_winner,\n",
    "        \"sf2_winner\": sf2_winner,\n",
    "        \"cup_winner\": cup_winner\n",
    "    }"
   ]
  },
  {
   "cell_type": "code",
   "execution_count": null,
   "metadata": {},
   "outputs": [],
   "source": [
    "np.random.seed(43)\n",
    "knockout_results = pd.DataFrame(\n",
    "    [simulate_world_cup_knockouts(a, b, p) for a, b, p in zip(attack_list, defense_list, phi)]\n",
    ")\n",
    "df_knockout_results = pd.DataFrame(\n",
    "    knockout_results[\"cup_winner\"].value_counts() / len(knockout_results)\n",
    ").reset_index()\n",
    "\n",
    "df_knockout_results.columns = [\"Team\", \"Probability of winning the world cup\"]\n",
    "\n",
    "df_knockout_results.round(decimals=3).to_csv(\"knockout_results.csv\", index=False)"
   ]
  }
 ],
 "metadata": {
  "kernelspec": {
   "display_name": "Python 3",
   "language": "python",
   "name": "python3"
  },
  "language_info": {
   "codemirror_mode": {
    "name": "ipython",
    "version": 3
   },
   "file_extension": ".py",
   "mimetype": "text/x-python",
   "name": "python",
   "nbconvert_exporter": "python",
   "pygments_lexer": "ipython3",
   "version": "3.7.4"
  }
 },
 "nbformat": 4,
 "nbformat_minor": 2
}
